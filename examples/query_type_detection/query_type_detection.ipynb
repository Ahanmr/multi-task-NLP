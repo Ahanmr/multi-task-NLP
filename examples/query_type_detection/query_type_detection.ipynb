{
 "cells": [
  {
   "cell_type": "code",
   "execution_count": null,
   "metadata": {},
   "outputs": [],
   "source": [
    "!wget https://msmarco.blob.core.windows.net/msmarco/train_v2.1.json.gz -P msmarco_qna_data\n",
    "!wget https://msmarco.blob.core.windows.net/msmarco/dev_v2.1.json.gz -P msmarco_qna_data\n",
    "!wget https://msmarco.blob.core.windows.net/msmarco/eval_v2.1_public.json.gz -P msmarco_qna_data"
   ]
  },
  {
   "cell_type": "code",
   "execution_count": null,
   "metadata": {},
   "outputs": [],
   "source": [
    "!gunzip msmarco_qna_data/train_v2.1.json.gz\n",
    "!gunzip msmarco_qna_data/dev_v2.1.json.gz\n",
    "!gunzip msmarco_qna_data/eval_v2.1_public.json.gz"
   ]
  },
  {
   "cell_type": "code",
   "execution_count": null,
   "metadata": {},
   "outputs": [],
   "source": [
    "!python ../../data_transformations.py \\\n",
    "    --transform_file 'transform_file_querytype.yml'"
   ]
  },
  {
   "cell_type": "code",
   "execution_count": null,
   "metadata": {},
   "outputs": [],
   "source": [
    "!python ../../data_preparation.py \\\n",
    "    --task_file 'tasks_file_querytype.yml' \\\n",
    "    --data_dir '../../data' \\\n",
    "    --max_seq_len 60"
   ]
  },
  {
   "cell_type": "code",
   "execution_count": null,
   "metadata": {},
   "outputs": [],
   "source": [
    "!python ../../train.py \\\n",
    "    --data_dir '../../data/bert-base-uncased_prepared_data' \\\n",
    "    --task_file 'tasks_file_querytype.yml' \\\n",
    "    --out_dir 'msmarco_querytype_bert_base' \\\n",
    "    --epochs 3 \\\n",
    "    --train_batch_size 64 \\\n",
    "    --eval_batch_size 64 \\\n",
    "    --grad_accumulation_steps 1 \\\n",
    "    --log_per_updates 100 \\\n",
    "    --eval_while_train True \\\n",
    "    --test_while_train True \\\n",
    "    --max_seq_len 60 \\\n",
    "    --silent True"
   ]
  },
  {
   "cell_type": "code",
   "execution_count": null,
   "metadata": {},
   "outputs": [],
   "source": []
  }
 ],
 "metadata": {
  "kernelspec": {
   "display_name": "Python 3",
   "language": "python",
   "name": "python3"
  },
  "language_info": {
   "codemirror_mode": {
    "name": "ipython",
    "version": 3
   },
   "file_extension": ".py",
   "mimetype": "text/x-python",
   "name": "python",
   "nbconvert_exporter": "python",
   "pygments_lexer": "ipython3",
   "version": "3.7.3"
  }
 },
 "nbformat": 4,
 "nbformat_minor": 4
}
