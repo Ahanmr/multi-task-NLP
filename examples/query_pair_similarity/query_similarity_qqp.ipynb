{
 "cells": [
  {
   "cell_type": "code",
   "execution_count": null,
   "metadata": {},
   "outputs": [],
   "source": [
    "!wget qim.fs.quoracdn.net/quora_duplicate_questions.tsv -P qqp_data/"
   ]
  },
  {
   "cell_type": "markdown",
   "metadata": {},
   "source": [
    "# Step -1 Data Transformations\n",
    "\n",
    "Defining transform file\n",
    "\n",
    "```\n",
    "sample_transform:\n",
    "  transform_func: qqp_query_similarity_to_tsv\n",
    "  read_file_names:\n",
    "    - quora_duplicate_questions.tsv\n",
    "  read_dir : qqp_data\n",
    "  save_dir: ../../data\n",
    "```"
   ]
  },
  {
   "cell_type": "code",
   "execution_count": null,
   "metadata": {},
   "outputs": [],
   "source": [
    "!python ../../data_transformations.py \\\n",
    "    --transform_file 'transform_file_qqp.yml'"
   ]
  },
  {
   "cell_type": "markdown",
   "metadata": {},
   "source": [
    "# Step -2 Data Preparation\n",
    "\n",
    "Defining task file for query similarity detection with QQP data\n",
    "\n",
    "```\n",
    "querysimilarity:\n",
    "    model_type: BERT\n",
    "    config_name: bert-base-uncased\n",
    "    dropout_prob: 0.2\n",
    "    metrics:\n",
    "    - classification_accuracy\n",
    "    loss_type: CrossEntropyLoss\n",
    "    class_num: 2\n",
    "    task_type: SentencePairClassification\n",
    "    file_names:\n",
    "    - qqp_query_similarity_train.tsv\n",
    "    - qqp_query_similarity_dev.tsv\n",
    "    - qqp_query_similarity_test.tsv\n",
    "```"
   ]
  },
  {
   "cell_type": "code",
   "execution_count": null,
   "metadata": {},
   "outputs": [],
   "source": [
    "!python ../../data_preparation.py \\\n",
    "    --task_file 'tasks_file_qqp.yml' \\\n",
    "    --data_dir '../../data' \\\n",
    "    --max_seq_len 200"
   ]
  },
  {
   "cell_type": "markdown",
   "metadata": {},
   "source": [
    "# Step -3 Running train"
   ]
  },
  {
   "cell_type": "code",
   "execution_count": null,
   "metadata": {},
   "outputs": [],
   "source": [
    "!python ../../train.py \\\n",
    "    --data_dir '../../data/bert-base-uncased_prepared_data' \\\n",
    "    --task_file 'tasks_file_qqp.yml' \\\n",
    "    --out_dir 'qqp_query_similarity_bert_base' \\\n",
    "    --epochs 3 \\\n",
    "    --train_batch_size 8 \\\n",
    "    --eval_batch_size 16 \\\n",
    "    --grad_accumulation_steps 2 \\\n",
    "    --log_per_updates 50 \\\n",
    "    --max_seq_len 200 \\\n",
    "    --eval_while_train \\\n",
    "    --test_while_train \\\n",
    "    --silent True "
   ]
  },
  {
   "cell_type": "code",
   "execution_count": null,
   "metadata": {},
   "outputs": [],
   "source": []
  }
 ],
 "metadata": {
  "kernelspec": {
   "display_name": "Python 3",
   "language": "python",
   "name": "python3"
  },
  "language_info": {
   "codemirror_mode": {
    "name": "ipython",
    "version": 3
   },
   "file_extension": ".py",
   "mimetype": "text/x-python",
   "name": "python",
   "nbconvert_exporter": "python",
   "pygments_lexer": "ipython3",
   "version": "3.7.3"
  }
 },
 "nbformat": 4,
 "nbformat_minor": 4
}
